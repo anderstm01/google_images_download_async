{
 "cells": [
  {
   "cell_type": "code",
   "execution_count": 172,
   "metadata": {},
   "outputs": [
    {
     "name": "stdout",
     "output_type": "stream",
     "text": [
      "Overwriting test_google_images_download_async.py\n"
     ]
    }
   ],
   "source": [
    "%%writefile test_google_images_download_async.py\n",
    "\n",
    "#Builtin imports:\n",
    "import pytest\n",
    "import os\n",
    "import sys\n",
    "import shutil\n",
    "import json\n",
    "from pathlib import Path\n",
    "\n",
    "#Third party imports:\n",
    "import pytest_asyncio\n",
    "import asyncio\n",
    "\n",
    "#Local imports:\n",
    "sys.path.insert(0, os.path.abspath(os.path.join(os.path.dirname(__file__), '..')))\n",
    "from config_parser import parse_config\n",
    "from google_images_download_async import GoogleImagesDownloader, expand_arguments, SilentMode\n",
    "\n",
    "\n",
    "@pytest.mark.asyncio\n",
    "async def test_image_download_task():\n",
    "    \"\"\"\n",
    "    test async image download\n",
    "    \"\"\"\n",
    "    with open(Path(os.path.abspath(os.path.join(os.path.dirname(__file__), '..'))).joinpath('url_parms.json')) as file:\n",
    "        url_parm_json_file = json.load(file)\n",
    "        \n",
    "    GID = GoogleImagesDownloader(url_parm_json_file,{})\n",
    "\n",
    "    test_data = [['https://www.python.org/static/opengraph-icon-200x200.png','downloads/opengraph-icon-200x200.png'],\n",
    "                 ['https://www.python.org/static/opengraph-icon-200.png','downloads/opengraph-icon-200.png'],\n",
    "                 ['http://www.ufnwefnewnioewiofwe.com/image.jpg','downloads/image.jpg'],\n",
    "                 ['https%3A%2F%2Fspecials-images.forbesimg.com%2Fdam%2Fimageserve%2F1055486686%2F960x0.jpg%3Ffit%3Dscale','downloads/960x0.jpg'],\n",
    "                 ['bad url','bad url']]\n",
    "\n",
    "    test_expected_resp = [[None,True],\n",
    "                          [None,False],\n",
    "                          [None,False],\n",
    "                          [None,True],\n",
    "                          [None,False]]\n",
    "\n",
    "    for i in zip(test_data,test_expected_resp):\n",
    "        res = await GID.image_download_task(i[0][0])\n",
    "        assert None == i[1][0]\n",
    "        assert os.path.exists(i[0][1]) == i[1][1]\n",
    "\n",
    "    shutil.rmtree('downloads')\n",
    "\n"
   ]
  },
  {
   "cell_type": "code",
   "execution_count": 174,
   "metadata": {},
   "outputs": [
    {
     "name": "stdout",
     "output_type": "stream",
     "text": [
      "\u001b[1m============================= test session starts ==============================\u001b[0m\n",
      "platform linux -- Python 3.7.3, pytest-5.0.1, py-1.8.0, pluggy-0.12.0\n",
      "rootdir: /home/anderstm01/dev/ongoing/google_images_download_async/tests\n",
      "plugins: arraydiff-0.3, doctestplus-0.3.0, remotedata-0.3.1, openfiles-0.3.2, asyncio-0.10.0\n",
      "collected 1 item                                                               \u001b[0m\n",
      "\n",
      "test_google_images_download_async.py \u001b[32m.\u001b[0m\u001b[36m                                   [100%]\u001b[0m\n",
      "\n",
      "\u001b[32m\u001b[1m=========================== 1 passed in 1.15 seconds ===========================\u001b[0m\n"
     ]
    }
   ],
   "source": [
    "!python -m pytest test_google_images_download_async.py"
   ]
  }
 ],
 "metadata": {
  "kernelspec": {
   "display_name": "Python 3",
   "language": "python",
   "name": "python3"
  },
  "language_info": {
   "codemirror_mode": {
    "name": "ipython",
    "version": 3
   },
   "file_extension": ".py",
   "mimetype": "text/x-python",
   "name": "python",
   "nbconvert_exporter": "python",
   "pygments_lexer": "ipython3",
   "version": "3.7.3"
  }
 },
 "nbformat": 4,
 "nbformat_minor": 4
}
